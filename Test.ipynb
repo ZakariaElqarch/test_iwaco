{
 "cells": [
  {
   "cell_type": "markdown",
   "id": "b306286c",
   "metadata": {},
   "source": [
    "![Logo iwaco](https://iwaco.ma/webroot/style/images/logo.png)\n"
   ]
  },
  {
   "cell_type": "markdown",
   "id": "45327628",
   "metadata": {},
   "source": [
    "# Test Technique -Développeurs Full Stack-\n",
    "Bienvenue au test technique ! Ce test vise à évaluer vos compétences dans différents domaines clés pour le poste de développeur Full Stack. Veuillez suivre attentivement les instructions et les consignes pour chaque section.\n",
    "\n"
   ]
  },
  {
   "cell_type": "markdown",
   "id": "bae7e76e",
   "metadata": {},
   "source": [
    "### Instructions :\n",
    "\n",
    "- Ce test est divisé en plusieurs sections, chacune couvrant un domaine spécifique.\n",
    "- L'estimation du temps nécessaire pour compléter l'ensemble du test est d'environ 2 heures.\n",
    "- Le test est disponible en **Français**.\n",
    "- Pour les parties pratiques, veuillez suivre les instructions fournies pour exécuter les exercices sur votre - propre environnement de développement (ces instructions ne sont pas incluses dans ce test).\n",
    "- Une fois que vous avez terminé le test, veuillez soumettre vos réponses sur votre dépôt GitHub dédié."
   ]
  },
  {
   "cell_type": "markdown",
   "id": "c41ec27f",
   "metadata": {},
   "source": [
    "### Critères d'évaluation :\n",
    "- **Qualité du code** : clarté, lisibilité, modularité.\n",
    "- **Compréhension des concepts** : capacité à appliquer les principes fondamentaux et les bonnes pratiques.\n",
    "- **Réponse aux questions** : précision et exhaustivité des réponses aux questions théoriques.\n",
    "- **Soumission** : respect des consignes de soumission et des délais.\n"
   ]
  },
  {
   "cell_type": "markdown",
   "id": "1a53453d",
   "metadata": {},
   "source": [
    "### Contact\n",
    "Si vous avez des questions ou des préoccupations concernant le test, n'hésitez pas à contacter **Mr. MAJOCH Abdessamad** à a.majoch@iwaco.ma.\n",
    "\n"
   ]
  },
  {
   "cell_type": "markdown",
   "id": "aea30e0f",
   "metadata": {},
   "source": [
    "______"
   ]
  },
  {
   "cell_type": "markdown",
   "id": "afc459c9",
   "metadata": {},
   "source": [
    "## Partie I\n",
    "### Informations générales"
   ]
  },
  {
   "cell_type": "markdown",
   "id": "fce0ebad",
   "metadata": {},
   "source": [
    "1. Nom et prénom <input style=\"width: 250px\" value=\"El Qarch Zakaria\"/>"
   ]
  },
  {
   "cell_type": "markdown",
   "id": "dfd989bd",
   "metadata": {},
   "source": [
    "2. Vous habitez à <input  style=\"width: 250px\"  value=\"Fes\"/>"
   ]
  },
  {
   "cell_type": "markdown",
   "id": "a130e113",
   "metadata": {},
   "source": [
    "3. Actuallement vous\n",
    "    1. [```X```] Travaillez\n",
    "    2. [ ] Etudiez\n",
    "    3. [ ] Etes en Stage\n",
    "    4. [ ] En recherche active"
   ]
  },
  {
   "cell_type": "markdown",
   "id": "7d35753b",
   "metadata": {},
   "source": [
    "4. Vous voulez travailler en tant que\n",
    "    1. [```X```] developpeur frontend\n",
    "    2. [```X```] developpeur backend\n",
    "    3. [ ] developpeur mobile"
   ]
  },
  {
   "cell_type": "markdown",
   "id": "40013554",
   "metadata": {},
   "source": [
    "5. combien d'année d'expérience avez-vous?\n",
    "    1. [ ] < 1 an\n",
    "    2. [```X```] < 2 ans\n",
    "    3. [ ] < 5 ans\n",
    "    4. [ ] \\> 5 ans\n",
    " "
   ]
  },
  {
   "cell_type": "markdown",
   "id": "50b045a8",
   "metadata": {},
   "source": [
    "________"
   ]
  },
  {
   "cell_type": "markdown",
   "id": "199242f5",
   "metadata": {},
   "source": [
    "## Partie II\n",
    "### Questions Générales"
   ]
  },
  {
   "cell_type": "markdown",
   "id": "15fae605",
   "metadata": {},
   "source": [
    "\n",
    "1. C'est quoi `Git` ? et expliquez la différence entre `Git` et `SVN`.<br>\n",
    "```\n",
    "    Git est un système de contrôle de version, largement utilisé dans le développement logiciel pour suivre les modifications apportées au code source . Il permet à plusieurs développeurs de travailler sur le même projet, de gérer les modifications de manière collaborative et de suivre l'évolution du code.\n",
    "\n",
    "    Git est un système de contrôle de version distribué, ce qui signifie que chaque copie d'un dépôt Git contient l'historique complet des modifications.\n",
    "    SVN est un système de contrôle de version centralisé, où il y a un serveur central qui contient l'historique complet des modifications.\n",
    "```\n",
    "2. Expliquez l'utilisation de `composer.lock` et pourquoi il est important dans le développement PHP.<br>\n",
    "```\n",
    "    Lorsqu'on utilise Composer pour installer des dépendances dans un projet PHP, Composer génère en effet un fichier nommé composer.lock. Ce fichier enregistre les versions spécifiques des dépendances installées. Cela garantit la reproductibilité des installations sur différentes machines et environnements de développement, en s'assurant que chaque membre de l'équipe travaille avec les mêmes versions de dépendances.\n",
    "``` \n",
    "3. Quelle est la différence entre `require` et `require-dev` dans le fichier `composer.json` ? <br>\n",
    "```\n",
    "    La section require est utilisée pour spécifier les dépendances nécessaires au fonctionnement de votre application en production.\n",
    "    La section require-dev est utilisée pour spécifier les dépendances nécessaires uniquement pendant le développement de votre application.\n",
    "```\n",
    "4. C'est quoi `Object Pool Pattern` (Design Patterns) ?<br>\n",
    "```\n",
    "    Le modèle de conception Object Pool est une technique utilisée pour optimiser la création et l'utilisation des objets. Il consiste à pré-créer un groupe d'objets et à les stocker dans un \"pool\". Lorsque l’application a besoin d'un objet, elle peut le récupérer à partir du pool plutôt que d'en créer un nouveau à chaque fois. Cela permet d'améliorer les performances de l'application en réduisant le temps et les ressources nécessaires à la création d'objets coûteux.\n",
    "```\n",
    "5. A quoi sert la commande `git diff`?<br>\n",
    "```\n",
    "    La commande git diff est utilisée pour afficher les différences entre les modifications apportées dans le répertoire de travail et la zone de préparation (staging area) de dépôt Git. Elle permet de visualiser les changements effectués sur les fichiers depuis le dernier commit ou depuis une certaine référence spécifiée.\n",
    "```\n",
    "6. Quelle est la différence entre `git rebase` et `git merge` ?<br>\n",
    "```\n",
    "     La principale différence entre Git merge et Git rebase réside dans la façon dont ils intègrent les modifications de branches : Git merge crée un nouveau commit de fusion, tandis que Git rebase réécrit l'historique des commits. \n",
    "```"
   ]
  },
  {
   "cell_type": "markdown",
   "id": "90623434",
   "metadata": {},
   "source": [
    "### Javascript"
   ]
  },
  {
   "cell_type": "markdown",
   "id": "a353e13b",
   "metadata": {},
   "source": [
    "1. C'est quoi `CORS`?<br>\n",
    "```\n",
    "    CORS signifie \"Cross-Origin Resource Sharing\" . C'est un mécanisme de sécurité utilisé par les navigateurs web pour permettre à une page web d'accéder à des ressources provenant d'un domaine différent de celui où la page elle-même est hébergée. Cela aide à prévenir les attaques de type cross-site request forgery (CSRF) et garantit que les ressources ne sont accessibles que par les domaines autorisés.\n",
    "```\n",
    "2. C'est quoi la différence entre `==` et `===`<br> \n",
    "```\n",
    "    \"==\": Cet opérateur vérifie l'égalité entre deux valeurs après une conversion de type. \n",
    "    Les deux valeurs doivent seulement la même valeur pour que l'expression soit vraie.\n",
    "\n",
    "    \"===\": Cet opérateur vérifie l'égalité entre deux valeurs sans effectuer de conversion de type. Les deux valeurs doivent être du même type et avoir     la même valeur pour que l'expression soit vraie. \n",
    "```\n",
    "3. Qu'est ce que return `if ( \"0\" == \"true\" )`\n",
    "    1. [ ] 0\n",
    "    2. [ ] \"0\"\n",
    "    3. [ ] NULL\n",
    "    4. [```X```] false\n",
    "4. Qu'est ce que `this`?<br>\n",
    "```\n",
    "    this est un mot-clé spécial qui fait référence à l'objet sur lequel une fonction est en train d'être appelée, ou à l'objet auquel une méthode est liée.\n",
    "```\n",
    "5. Qu'est-ce que l'asynchronisme en JavaScript ? Expliquez l'utilisation de `Promises` et `async/await` pour gérer les opérations asynchrones.<br>\n",
    "```\n",
    "    L'asynchronisme fait référence à la capacité d'exécuter des opérations sans bloquer l'exécution du code.<br>\n",
    "\n",
    "    Les Promises sont un moyen de gérer les opérations asynchrones de manière plus structurée et lisible. Une Promise représente une valeur qui peut être disponible maintenant, dans le futur, ou jamais. Elle peut être soit en attente (pending), résolue (fulfilled), ou rejetée (rejected). Les Promises fournissent une syntaxe plus élégante et permettent de mieux gérer les erreurs que les callbacks.<br>\n",
    "\n",
    "    async est utilisé pour déclarer une fonction asynchrone qui retourne une Promise.<br>\n",
    "\n",
    "    await est utilisé à l'intérieur d'une fonction asynchrone pour attendre la résolution d'une Promise.\n",
    "```"
   ]
  },
  {
   "cell_type": "markdown",
   "id": "1c938880",
   "metadata": {},
   "source": [
    "### CSS"
   ]
  },
  {
   "cell_type": "markdown",
   "id": "faa42924",
   "metadata": {},
   "source": [
    "1. Expliquez la différence entre le comportement de `inline` et `block`<br>\n",
    "```\n",
    "    Les éléments `inline` en ligne ne commencent pas sur une nouvelle ligne et ne prennent que la largeur nécessaire.<br>\n",
    "    Les éléments `block` de bloc commencent sur une nouvelle ligne et occupent toute la largeur disponible.\n",
    "```\n",
    "2. Est-il possible de créer un site web responsive sans media queries ?<br>\n",
    "```\n",
    "    Créer un site web responsive sans utiliser de media queries serait extrêmement difficile, voire impossible dans la plupart des cas.\n",
    "```\n",
    "3. Expliquez les avantages/inconvénients de l'utilisation d'éléments `inline-block`, `flex` ou `float`.<br>\n",
    "```\n",
    "    Inline-Block :<br>\n",
    "        Avantages :<br>\n",
    "            Les éléments inline-block se comportent comme des éléments en ligne, mais ils peuvent également avoir des propriétés de bloc comme la largeur et la hauteur.<br>\n",
    "            Ils permettent d'aligner les éléments horizontalement sans nécessiter de flottaison.<br>\n",
    "            Ils conservent le flux de texte autour d'eux, ce qui peut être utile dans certains cas.<br>\n",
    "        Inconvénients :<br>\n",
    "            L'espacement entre les éléments en inline-block peut souvent être affecté par les espaces dans le code HTML, ce qui peut nécessiter des solutions de contournement.<br>\n",
    "            La gestion de la verticale alignée peut parfois être complexe.<br>\n",
    "\n",
    "    Flexbox :<br>\n",
    "        Avantages :<br>\n",
    "            Flexbox offre un contrôle plus puissant et plus flexible sur la disposition des éléments, tant en termes d'alignement horizontal que vertical.<br>\n",
    "            Il permet de facilement réorganiser et réaligner les éléments dans différentes configurations.<br>\n",
    "            Il simplifie souvent le processus de création de mises en page responsives.<br>\n",
    "        Inconvénients :<br>\n",
    "            La syntaxe peut être initialement déroutante pour les débutants.<br>\n",
    "            La prise en charge des anciens navigateurs peut poser problème, bien que cette situation s'améliore avec le temps.<br>\n",
    "\n",
    "    Float :<br>\n",
    "        Avantages :<br>\n",
    "            Le flottement était traditionnellement utilisé pour positionner des éléments côte à côte, ce qui est utile pour créer des mises en page multicolonnes.<br>\n",
    "            Il est largement pris en charge par les anciens navigateurs.<br>\n",
    "        Inconvénients :<br>\n",
    "            Le flottement n'est pas idéal pour créer des mises en page complexes ou responsives, car il peut entraîner des problèmes de positionnement et d'alignement.<br>\n",
    "            Il nécessite souvent des techniques de nettoyage pour éviter que les éléments suivants ne soient affectés par le flottement.<br>\n",
    "```\n",
    "4. Expliquez l'utilisation des pseudo-éléments `::before` et `::after`.<br>\n",
    "```\n",
    "    Les pseudo-éléments ::before et ::after sont des fonctionnalités de CSS permettant d'insérer du contenu généré avant ou après le contenu d'un élément ciblé, sans avoir à ajouter de contenu supplémentaire dans le code HTML. Ils sont souvent utilisés pour ajouter des décorations, des icônes, des lignes, ou pour modifier la mise en forme d'un élément sans avoir à modifier sa structure HTML.\n",
    "```"
   ]
  },
  {
   "cell_type": "markdown",
   "id": "6e0022a1",
   "metadata": {},
   "source": [
    "### PHP"
   ]
  },
  {
   "cell_type": "markdown",
   "id": "f2827685",
   "metadata": {},
   "source": [
    "1. Écrivez un programme qui imprimera des nombres de 1 à 100, avec les conditions suivantes :\n",
    "    1. A la place de chaque nombre qui peut être divisé par 3, le programme imprimera Dev.\n",
    "    2. A la place de chaque nombre divisible par 5, le programme imprimera Ops.\n",
    "    3. A la place de chaque nombre divisible par 3 et 5, le programme imprimera DevOps.<br>\n",
    "```\n",
    "    <?php\n",
    "    for ($i = 1; $i <= 100; $i++) {\n",
    "        if ($i % 3 == 0 && $i % 5 == 0) {\n",
    "            echo \"DevOps \";\n",
    "        } elseif ($i % 3 == 0) {\n",
    "            echo \"Dev \";\n",
    "        } elseif ($i % 5 == 0) {\n",
    "            echo \"Ops \";\n",
    "        } else {\n",
    "            echo $i . \" \";\n",
    "        }\n",
    "    }\n",
    "    ?>\n",
    "```\n",
    "\n",
    "2. Ecrire une fonction qui vérifie si paramètre est en fait un nombre premier. \n",
    "`echo isPrime(73) ? 'Prime' : 'Composite';`<br>\n",
    "```\n",
    "<?php\n",
    "function isPrime($number) {\n",
    "    // Les nombres inférieurs à 2 ne sont pas premiers\n",
    "    if ($number < 2) {\n",
    "        return false;\n",
    "    }\n",
    "    \n",
    "    // Vérifie les diviseurs de 2 à la racine carrée du nombre\n",
    "    for ($i = 2; $i <= sqrt($number); $i++) {\n",
    "        if ($number % $i === 0) {\n",
    "            return false;\n",
    "        }\n",
    "    }\n",
    "    \n",
    "    return true;\n",
    "}\n",
    "\n",
    "echo isPrime(73) ? 'Prime' : 'Composite'; // Renvoie 'Prime' car 73 est premier\n",
    "?>\n",
    "```\n",
    "\n",
    "3. Quel est le résultat de l'exécution de ce code PHP ? Expliquez en détail ce que fait chaque ligne de code.(`voir algorithme.php`)\n",
    "\n",
    "```\n",
    "    <?php\n",
    "        $array= [3, 8, -4, 0, 2, -9];\n",
    "        foreach ($array as &$item):\n",
    "            $item = ($item >= 0)? $item : pow($item, 2);\n",
    "        endforeach;\n",
    "        print_r($array);\n",
    "```\n",
    "```\n",
    "Array\n",
    "(\n",
    "    [0] => 3\n",
    "    [1] => 8\n",
    "    [2] => 16\n",
    "    [3] => 0\n",
    "    [4] => 2\n",
    "    [5] => 81\n",
    ")\n",
    "```"
   ]
  },
  {
   "cell_type": "markdown",
   "id": "7f6793a1",
   "metadata": {},
   "source": [
    "### DATABASE"
   ]
  },
  {
   "cell_type": "markdown",
   "id": "c18def64",
   "metadata": {},
   "source": [
    "Pour la table employee ci-dessous `(voir employee.sql)`\n",
    "\n",
    "1.  extraire le nombre d'employés par jour s'étant inscrit <br>\n",
    "    select day(create_at) as Jour_inscription , count(\\*) as nbrEmployee from employee group by day(create_at);\n",
    "    <br>\n",
    "\n",
    "2.  extraire les employés ayant fait l'inscription le `3/10/2021`<br>\n",
    "\n",
    "```SELECT *\n",
    "   FROM employee\n",
    "   WHERE DATE(create_at) = '2021-10-03';\n",
    "```\n",
    "\n",
    "   3. extraire les employés ayant un email qui commence par `consonne` (ex: B, C, D, F, G, ... X, Z) et qui a un chiffre avant le `@` (ex: **c**yegorkin**0**@usatoday.com)<br>\n",
    "\n",
    "```\n",
    "   SELECT *\n",
    "   FROM employee\n",
    "   WHERE\n",
    "      SUBSTRING(email, 1, 1) REGEXP '[BCDFGHJKLMNPQRSTVWXZ]'\n",
    "      AND SUBSTRING(email, LOCATE('@', email) - 1, 1) REGEXP '[0-9]';\n",
    "```\n",
    "   4. mettre first_name et last_name en `lowercase`<br>\n",
    "   ```\n",
    "   UPDATE employee\n",
    "   SET first_name = LOWER(first_name), last_name = LOWER(last_name);\n",
    "   ```\n",
    "\n",
    "   5. modifier la column `create_at` par `date_creation`<br>\n",
    "   ```\n",
    "   ALTER TABLE employee\n",
    "   CHANGE COLUMN create_at date_creation DATETIME;\n",
    "   ```\n",
    "\n",
    "\n",
    "   6. c'est quoi la differnce entre `delete` et `truncate`<br>\n",
    "   ```\n",
    "   DELETE :\n",
    "      La commande DELETE est utilisée pour supprimer des lignes spécifiques d'une table en fonction d'une condition donnée.\n",
    "      Elle est plus flexible car on peut spécifier des critères pour supprimer des lignes spécifiques.\n",
    "      DELETE génère des logs d'opérations de suppression, ce qui peut entraîner une surcharge de l'activité du journal et des performances réduites, surtout lors de la suppression d'un grand nombre de lignes.\n",
    "   TRUNCATE :\n",
    "      La commande TRUNCATE est utilisée pour supprimer toutes les lignes d'une table, mais elle ne supprime pas la structure de la table elle-même.\n",
    "      Elle est plus rapide que DELETE car elle ne génère pas de logs pour chaque ligne supprimée, et elle ne vérifie pas les contraintes d'intégrité référentielle.\n",
    "      TRUNCATE ne peut pas être utilisée avec une clause WHERE, ce qui signifie qu'elle supprime toutes les lignes de la table sans exception.\n",
    "      Cependant, TRUNCATE réinitialise l'auto-incrémentation des index de colonnes.\n",
    "```\n",
    "\n",
    "   7. imprimer la liste des employés qui ont un salaire plus que la somme de deux salaires minimum<br>\n",
    "   ```\n",
    "   SELECT *\n",
    "   FROM employee\n",
    "   WHERE salary > 2 * (SELECT MIN(salary) FROM employee);\n",
    "   ```\n",
    "\n"
   ]
  },
  {
   "cell_type": "markdown",
   "id": "30c385fd",
   "metadata": {},
   "source": [
    "\n",
    "| id | first_name | last_name   | email                          | salaire | create_at           |\n",
    "|----|------------|-------------|--------------------------------|---------|---------------------|\n",
    "|  1 | Cammy      | Yegorkin    | cyegorkin0@usatoday.com        |   10188 | 2021-10-27 08:04:27 |\n",
    "|  2 | Shae       | Masham      | smasham1@ftc.gov               |   11601 | 2021-10-11 18:17:51 |\n",
    "|  3 | Hadlee     | Oakeshott   | hoakeshott2@ca.gov             |    5797 | 2021-10-13 11:14:04 |\n",
    "|  4 | Mora       | Krzyzowski  | mkrzyzowski3@usgs.gov          |    6665 | 2021-10-01 09:08:31 |\n",
    "|  5 | Jone       | Ellerman    | jellerman4@xing.com            |    8018 | 2021-10-18 06:49:23 |\n",
    "|  6 | Lynda      | Combe       | lcombe5@spotify.com            |    9423 | 2021-10-11 02:36:17 |\n",
    "|  7 | Leon       | Brusin      | lbrusin6@barnesandnoble.com    |    8644 | 2021-10-17 21:10:01 |\n",
    "|  8 | Dionysus   | Letford     | dletford7@simplemachines.org   |    9914 | 2021-10-17 10:45:06 |\n",
    "|  9 | Edithe     | Radborn     | eradborn8@360.cn               |   12534 | 2021-10-15 00:55:30 |\n",
    "| 10 | Darrelle   | Oxtiby      | doxtiby9@taobao.com            |   12483 | 2021-10-06 11:25:44 |\n",
    "| 11 | Kori       | Gissing     | kgissinga@kickstarter.com      |    9001 | 2021-10-03 17:00:23 |\n",
    "| 12 | Jordan     | Speedy      | jspeedyb@comsenz.com           |   10875 | 2021-10-19 07:36:37 |\n",
    "| 13 | Toinette   | Bradneck    | tbradneckc@merriam-webster.com |   12670 | 2021-10-25 10:15:28 |\n",
    "| 14 | Kissie     | Valentino   | kvalentinod@wikimedia.org      |    7285 | 2021-10-20 13:34:10 |\n",
    "| 15 | Letta      | Botwood     | lbotwoode@shutterfly.com       |    6648 | 2021-10-04 06:49:30 |\n",
    "| 16 | Claudetta  | Winram      | cwinramf@wsj.com               |   12494 | 2021-10-03 05:21:26 |\n",
    "| 17 | Joell      | Force       | jforceg@examiner.com           |    6346 | 2021-10-13 22:57:31 |\n",
    "| 18 | Sansone    | Comrie      | scomrieh@histats.com           |   11449 | 2021-10-26 15:04:28 |\n",
    "| 19 | Cherie     | Salmen      | csalmeni@comsenz.com           |    9870 | 2021-10-19 16:36:11 |\n",
    "| 20 | Hervey     | Mildmott    | hmildmottj@t-online.de         |    7783 | 2021-10-28 16:42:29 |\n",
    "| 21 | Dar        | Vasin       | dvasink@mysql.com              |   10383 | 2021-10-29 15:56:34 |\n",
    "| 22 | Dionis     | Riggulsford | driggulsfordl@pcworld.com      |    9191 | 2021-10-01 11:30:40 |\n",
    "| 23 | Dory       | St Clair    | dstclairm@harvard.edu          |   10854 | 2021-10-10 14:42:25 |\n",
    "| 24 | Ardeen     | Vardon      | avardonn@baidu.com             |   11460 | 2021-10-11 02:14:51 |\n",
    "| 25 | Coriss     | Linnemann   | clinnemanno@fc2.com            |    9248 | 2021-10-24 17:15:02 |\n",
    "| 26 | Itch       | Screech     | iscreechp@dedecms.com          |    5451 | 2021-10-21 15:28:28 |\n",
    "| 27 | Ingram     | Thorneley   | ithorneleyq@freewebs.com       |   12764 | 2021-10-21 21:13:23 |\n",
    "| 28 | Ellyn      | Deadman     | edeadmanr@w3.org               |    5630 | 2021-10-21 10:24:22 |\n",
    "| 29 | Brigit     | Pinckney    | bpinckneys@parallels.com       |   10501 | 2021-10-26 02:34:22 |\n",
    "| 30 | Gilbertina | Thurbon     | gthurbont@flavors.me           |    6167 | 2021-10-20 05:28:06 |\n"
   ]
  },
  {
   "cell_type": "markdown",
   "id": "83b3923c",
   "metadata": {},
   "source": [
    "____"
   ]
  },
  {
   "cell_type": "markdown",
   "id": "82fdd68d",
   "metadata": {},
   "source": [
    "## Partie III\n",
    "### Pratique"
   ]
  },
  {
   "cell_type": "markdown",
   "id": "e3f3e6f4",
   "metadata": {},
   "source": [
    "###### Objectif :\n",
    "\n",
    "Créez une application web **simple** en utilisant `Laravel` pour le back-end et HTML, CSS et JavaScript pour le front-end.\n",
    "```\n",
    "Voir le repo inclue dans l'email\n",
    "```"
   ]
  },
  {
   "cell_type": "markdown",
   "id": "e9bba806",
   "metadata": {},
   "source": [
    "###### Instructions\n",
    "1. Utilisez Laravel pour créer une application web qui servira de back-end.\n",
    "2. Définissez une base de données pour stocker une liste de produits.\n",
    "3. Implémentez un système d'authentification basique pour permettre aux administrateurs de se connecter.\n",
    "4. Concevez et développez les pages frontales de l'application en utilisant HTML, CSS et JavaScript. Utilisez Bootstrap (ou Tailwind CSS) pour la mise en page et le style, si nécessaire.\n",
    "5. Implémentez les fonctionnalités de base de l'application, telles que l'ajout, la modification et la suppression d'éléments dans la base de données.\n",
    "6. Intégrez la liste des produits depuis une boutique Shopify en utilisant l'API Shopify."
   ]
  }
 ],
 "metadata": {
  "kernelspec": {
   "display_name": "Python 3",
   "language": "python",
   "name": "python3"
  },
  "language_info": {
   "codemirror_mode": {
    "name": "ipython",
    "version": 3
   },
   "file_extension": ".py",
   "mimetype": "text/x-python",
   "name": "python",
   "nbconvert_exporter": "python",
   "pygments_lexer": "ipython3",
   "version": "3.8.8"
  }
 },
 "nbformat": 4,
 "nbformat_minor": 5
}
